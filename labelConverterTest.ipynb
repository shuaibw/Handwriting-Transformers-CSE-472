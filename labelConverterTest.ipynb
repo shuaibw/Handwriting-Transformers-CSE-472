{
 "cells": [
  {
   "cell_type": "code",
   "execution_count": 59,
   "metadata": {},
   "outputs": [],
   "source": [
    "import torch\n",
    "\n",
    "ALPHABET=\" ',:।ঁংঃঅআইঈউঊঋএঐওঔকখগঘঙচছজঝঞটঠডঢণতথদধনপফবভমযরলশষসহ়ািীুূৃেৈোৌ্ৎৗড়ঢ়য়০১২৩৪৫৬৭৮৯৷‌‍–—\"\n",
    "CONJUNCTS = [\n",
    "    \"ক্ক\", \"ক্ট\", \"ক্ত\", \"ক্ত্র\", \"ক্ব\", \"ক্ম\", \"ক্য\", \"ক্র\", \"ক্ল\", \"ক্ষ\", \"ক্ষ্ণ\", \"ক্ষ্ব\", \"ক্ষ্ম\", \"ক্ষ্য\", \"ক্স\", \"র্ক\", \"র্ক্য\", \"খ্য\", \"খ্র\", \"র্খ\",\n",
    "    \"গ্ন\", \"গ্ধ\", \"গ্ধ্য\", \"গ্ধ্র\", \"গ্ন\", \"গ্ন্য\", \"গ্ব\", \"গ্ম\", \"গ্য\", \"গ্র\", \"গ্র্য\", \"গ্ল\", \"র্গ\", \"র্গ্য\", \"র্গ্র\", \"ঘ্ন\", \"ঘ্য\", \"ঘ্র\", \"র্ঘ্য\", \"র্ঘ\",\n",
    "    \"ঙ্ক\", \"ঙ্ক্য\", \"ঙ্ক্ষ\", \"ঙ্খ\", \"ঙ্খ্য\", \"ঙ্গ\", \"ঙ্গ্য\", \"ঙ্ঘ\", \"ঙ্ঘ্য\", \"ঙ্ঘ্র\", \"ঙ্ম\", \"র্ঙ্গ\", \"চ্চ\", \"চ্ছ\", \"চ্ছ্ব\", \"চ্ছ্র\", \"জ্ঞ\", \"জ্ঞ\", \"চ্ব\",\n",
    "    \"চ্য\", \"র্চ্য\", \"র্চ\", \"র্ছ\", \"জ্জ\", \"জ্জ্ব\", \"জ্ঝ\", \"জ্ঞ\", \"জ্ব\", \"জ্য\", \"জ্র\", \"র্জ্য\", \"র্জ্জ\", \"র্জ্ঞ\", \"র্জ\", \"র্ঝ\", \"ঞ্চ\", \"ঞ্ছ\", \"ঞ্জ\", \"ঞ্ঝ\",\n",
    "    \"ট্ট\", \"ট্ব\", \"ট্ম\", \"ট্য\", \"ট্র\", \"র্ট\", \"ড্ড\", \"ড্ব\", \"ড্ম\", \"ড্য\", \"ড্র\", \"র্ড\", \"ঢ্য\", \"ঢ্র\", \"র্ঢ্য\", \"ণ্ট\", \"ণ্ঠ\", \"ণ্ঠ্য\", \"ণ্ড\", \"ণ্ড্য\", \"ণ্ড্র\",\n",
    "    \"ণ্ঢ\", \"ণ্ণ\", \"ণ্ব\", \"ণ্ম\", \"ণ্য\", \"র্ণ্য\", \"র্ণ\", \"ত্ত\", \"ত্ত্ব\", \"ত্ত্য\", \"ত্থ\", \"ত্ন\", \"ত্ব\", \"ত্ম\", \"ত্ম্য\", \"ত্য\", \"ত্র\", \"ত্র্য\", \"র্ত্য\", \"র্ত\",\n",
    "    \"র্ত্ম\", \"র্ত্র\", \"থ্ব\", \"থ্য\", \"থ্র\", \"র্থ্য\", \"র্থ\", \"দ্গ\", \"দ্ঘ\", \"দ্দ\", \"দ্দ্ব\", \"দ্ধ\", \"দ্ব\", \"দ্ভ\", \"দ্ভ্র\", \"দ্ম\", \"দ্য\", \"দ্র\", \"দ্র্য\", \"র্দ\", \"র্দ্ব\",\n",
    "    \"র্দ্র\", \"ধ্ন\", \"ধ্ব\", \"ধ্ম\", \"ধ্য\", \"ধ্র\", \"র্ধ\", \"র্ধ্ব\", \"ন্ট\", \"ন্ট্র\", \"ণ্ঠ\", \"ণ্ড\", \"ণ্ড্র\", \"ন্ত\", \"ন্ত্ব\", \"ন্ত্য\", \"ন্ত্র\", \"ন্ত্র্য\", \"ন্থ\", \"ন্থ্র\",\n",
    "    \"ন্দ\", \"ন্দ্য\", \"ন্দ্ব\", \"ন্দ্র\", \"ন্ধ\", \"ন্ধ্য\", \"ন্ধ্র\", \"ন্ন\", \"ন্ব\", \"ন্ম\", \"ন্য\", \"র্ন\", \"প্ট\", \"প্ত\", \"প্ন\", \"প্প\", \"প্য\", \"প্র\", \"প্র্য\", \"প্ল\",\n",
    "    \"প্স\", \"র্প\", \"ফ্র\", \"ফ্ল\", \"র্ফ\", \"ব্জ\", \"ব্দ\", \"ব্ধ\", \"ব্ব\", \"ব্য\", \"ব্র\", \"ব্ল\", \"র্ব্য\", \"র্ব\", \"ভ্ব\", \"ভ্য\", \"ভ্র\", \"ভ্ল\", \"র্ভ\", \"ম্ন\", \"ম্প\",\n",
    "    \"ম্প্র\", \"ম্ফ\", \"ম্ব\", \"ম্ব্র\", \"ম্ভ\", \"ম্ভ্র\", \"ম্ম\", \"ম্য\", \"ম্র\", \"ম্ল\", \"র্ম্য\", \"র্ম\", \"য্য\", \"র্য\", \"ল্ক\", \"ল্ক্য\", \"ল্গ\", \"ল্ট\", \"ল্ড\", \"ল্প\",\n",
    "    \"ল্ফ\", \"ল্ব\", \"ল্ভ\", \"ল্ম\", \"ল্য\", \"ল্ল\", \"র্ল\", \"শ্চ\", \"শ্ছ\", \"শ্ন\", \"শ্ব\", \"শ্ম\", \"শ্য\", \"শ্র\", \"শ্ল\", \"র্শ্য\", \"র্শ\", \"র্শ্ব\", \"ষ্ক\", \"ষ্ক্ব\", \"ষ্ক্র\",\n",
    "    \"ষ্ট\", \"ষ্ট্য\", \"ষ্ট্র\", \"ষ্ঠ\", \"ষ্ঠ্য\", \"ষ্ণ\", \"ষ্ণ্ব\", \"ষ্প\", \"ষ্প্র\", \"ষ্ফ\", \"ষ্ব\", \"ষ্ম\", \"ষ্য\", \"র্ষ্য\", \"র্ষ\", \"র্ষ্ট\", \"র্ষ্ণ\", \"র্ষ্ণ্য\", \"স্ক\",\n",
    "    \"স্ক্র\", \"স্খ\", \"স্ট\", \"স্ট্র\", \"স্ত\", \"স্ত্ব\", \"স্ত্য\", \"স্ত্র\", \"স্থ\", \"স্থ্য\", \"স্ন\", \"স্ন্য\", \"স্প\", \"স্প্র\", \"স্প্ল\", \"স্ফ\", \"স্ব\", \"স্ম\",\n",
    "    \"স্য\", \"স্র\", \"স্ল\", \"স্ক্ল\", \"র্স\", \"হ্ণ\", \"হ্ন\", \"হ্ব\", \"হ্ম\", \"হ্য\", \"হ্র\", \"হ্ল\", \"র্হ্য\", \"র্হ\", \"ড়্গ\", \"র্ত\"\n",
    "]\n",
    "VOCAB_SIZE = len(ALPHABET) + len(CONJUNCTS)\n",
    "class strLabelConverter(object):\n",
    "    \"\"\"Convert between str and label.\n",
    "    NOTE:\n",
    "        Insert `blank` to the alphabet for CTC.\n",
    "    Args:\n",
    "        alphabet (str): set of the possible characters.\n",
    "        ignore_case (bool, default=True): whether or not to ignore all of the case.\n",
    "    \"\"\"\n",
    "\n",
    "    def __init__(self, alphabet, conjuncts, ignore_case=False):\n",
    "        self._ignore_case = ignore_case\n",
    "        if self._ignore_case:\n",
    "            alphabet = alphabet.lower()\n",
    "        self.alphabet = alphabet + '-'  # for `-1` index\n",
    "        self.conjuncts = conjuncts\n",
    "\n",
    "        self.dict = {}\n",
    "        for i, char in enumerate(alphabet):\n",
    "            # NOTE: 0 is reserved for 'blank' required by wrap_ctc\n",
    "            self.dict[char] = i + 1\n",
    "        # Add conjuncts to dictionary\n",
    "        for i, conj in enumerate(conjuncts, start=len(alphabet)):\n",
    "            self.dict[conj] = i + 1\n",
    "\n",
    "    def find_conjunct(self, text, pos):\n",
    "        \"\"\"Look ahead to find longest matching conjunct\"\"\"\n",
    "        for length in range(7, -1, -1):  # Check longer conjuncts first\n",
    "            if pos + length <= len(text):\n",
    "                candidate = text[pos:pos + length]\n",
    "                if candidate in CONJUNCTS:\n",
    "                    return candidate, length\n",
    "        return None, 0\n",
    "    \n",
    "    def encode(self, text):\n",
    "        \"\"\"Support batch or single str.\n",
    "        Args:\n",
    "            text (str or list of str): texts to convert.\n",
    "        Returns:\n",
    "            torch.IntTensor [length_0 + length_1 + ... length_{n - 1}]: encoded texts.\n",
    "            torch.IntTensor [n]: length of each text.\n",
    "        \"\"\"\n",
    "        '''\n",
    "        if isinstance(text, str):\n",
    "            text = [\n",
    "                self.dict[char.lower() if self._ignore_case else char]\n",
    "                for char in text\n",
    "            ]\n",
    "            length = [len(text)]\n",
    "        elif isinstance(text, collections.Iterable):\n",
    "            length = [len(s) for s in text]\n",
    "            text = ''.join(text)\n",
    "            text, _ = self.encode(text)\n",
    "        return (torch.IntTensor(text), torch.IntTensor(length))\n",
    "        '''\n",
    "        length = []\n",
    "        result = []\n",
    "        results = []\n",
    "        for item in text:\n",
    "            item = item.decode('utf-8', 'strict')\n",
    "            length.append(len(item))\n",
    "            i = 0\n",
    "            while i < len(item):\n",
    "                # Look for conjunct\n",
    "                conjunct, conj_len = self.find_conjunct(item, i)\n",
    "                \n",
    "                if conjunct:\n",
    "                    index = self.dict[conjunct]\n",
    "                    result.append(index)\n",
    "                    i += conj_len\n",
    "                else:\n",
    "                    # Handle single character\n",
    "                    index = self.dict[item[i]]\n",
    "                    result.append(index)\n",
    "                    i += 1\n",
    "                    \n",
    "            results.append(result)\n",
    "            result = []\n",
    "\n",
    "        return (torch.nn.utils.rnn.pad_sequence(\n",
    "            [torch.LongTensor(text) for text in results], \n",
    "            batch_first=True), \n",
    "            torch.IntTensor(length))\n",
    "    def decode(self, t, length, raw=False):\n",
    "        \"\"\"Decode encoded texts back into strs.\n",
    "        Args:\n",
    "            torch.IntTensor [length_0 + length_1 + ... length_{n - 1}]: encoded texts.\n",
    "            torch.IntTensor [n]: length of each text.\n",
    "        Raises:\n",
    "            AssertionError: when the texts and its length does not match.\n",
    "        Returns:\n",
    "            text (str or list of str): texts to convert.\n",
    "        \"\"\"\n",
    "        if length.numel() == 1:\n",
    "            length = length[0]\n",
    "            assert t.numel() == length, \"text with length: {} does not match declared length: {}\".format(t.numel(),\n",
    "                                                                                                         length)\n",
    "            if raw:\n",
    "                return ''.join([self.alphabet[i - 1] for i in t])\n",
    "            else:\n",
    "                char_list = []\n",
    "                for i in range(length):\n",
    "                    if t[i] != 0 and (not (i > 0 and t[i - 1] == t[i])):\n",
    "                        char_list.append(self.alphabet[t[i] - 1])\n",
    "                return ''.join(char_list)\n",
    "        else:\n",
    "            # batch mode\n",
    "            assert t.numel() == length.sum(), \"texts with length: {} does not match declared length: {}\".format(\n",
    "                t.numel(), length.sum())\n",
    "            texts = []\n",
    "            index = 0\n",
    "            for i in range(length.numel()):\n",
    "                l = length[i]\n",
    "                texts.append(\n",
    "                    self.decode(\n",
    "                        t[index:index + l], torch.IntTensor([l]), raw=raw))\n",
    "                index += l\n",
    "            return texts\n",
    "\n",
    "\n"
   ]
  },
  {
   "cell_type": "code",
   "execution_count": 60,
   "metadata": {},
   "outputs": [],
   "source": [
    "converter = strLabelConverter(ALPHABET, CONJUNCTS)"
   ]
  },
  {
   "cell_type": "code",
   "execution_count": 61,
   "metadata": {},
   "outputs": [],
   "source": [
    "lines = ['ক্ত্রক্ট ক্ক আমার', 'আমার সোনার বাংলা।']\n",
    "text = [j.encode() for j in sum([i.split(' ') for i in lines], [])]"
   ]
  },
  {
   "cell_type": "code",
   "execution_count": 62,
   "metadata": {},
   "outputs": [],
   "source": [
    "tensor, length = converter.encode(text)"
   ]
  },
  {
   "cell_type": "code",
   "execution_count": 63,
   "metadata": {},
   "outputs": [
    {
     "data": {
      "text/plain": [
       "(tensor([[87, 85,  0,  0,  0,  0],\n",
       "         [84,  0,  0,  0,  0,  0],\n",
       "         [10, 44, 53, 46,  0,  0],\n",
       "         [10, 44, 53, 46,  0,  0],\n",
       "         [50, 61, 39, 53, 46,  0],\n",
       "         [42, 53,  7, 47, 53,  5]]),\n",
       " tensor([8, 3, 4, 4, 5, 6], dtype=torch.int32))"
      ]
     },
     "execution_count": 63,
     "metadata": {},
     "output_type": "execute_result"
    }
   ],
   "source": [
    "tensor, length"
   ]
  },
  {
   "cell_type": "code",
   "execution_count": 42,
   "metadata": {},
   "outputs": [
    {
     "name": "stdout",
     "output_type": "stream",
     "text": [
      "ন্ত্র্য\n",
      "র্ষ্ণ্য\n"
     ]
    }
   ],
   "source": [
    "# max length sequence of the conjuncts and the alphabet\n",
    "max_length = max([len(i) for i in CONJUNCTS])\n",
    "for i in CONJUNCTS:\n",
    "    if len(i) == max_length:\n",
    "        print(i)\n",
    "        # break"
   ]
  }
 ],
 "metadata": {
  "kernelspec": {
   "display_name": "dl",
   "language": "python",
   "name": "python3"
  },
  "language_info": {
   "codemirror_mode": {
    "name": "ipython",
    "version": 3
   },
   "file_extension": ".py",
   "mimetype": "text/x-python",
   "name": "python",
   "nbconvert_exporter": "python",
   "pygments_lexer": "ipython3",
   "version": "3.10.15"
  }
 },
 "nbformat": 4,
 "nbformat_minor": 2
}
